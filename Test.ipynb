{
 "cells": [
  {
   "cell_type": "code",
   "execution_count": 0,
   "metadata": {
    "application/vnd.databricks.v1+cell": {
     "cellMetadata": {
      "byteLimit": 2048000,
      "rowLimit": 10000
     },
     "inputWidgets": {},
     "nuid": "6ecb2634-d200-4e7b-8703-d6daa0f20bbd",
     "showTitle": false,
     "tableResultSettingsMap": {},
     "title": ""
    }
   },
   "outputs": [],
   "source": [
    "def get_all_keys(data, parent_key=''):\n",
    "    keys = []\n",
    "    if isinstance(data, dict):\n",
    "        for key, value in data.items():\n",
    "            full_key = f\"{parent_key}.{key}\" if parent_key else key\n",
    "            keys.append(full_key)\n",
    "            print(f\"item: {keys}\")\n",
    "            keys.extend(get_all_keys(value, full_key))\n",
    "    elif isinstance(data, list):\n",
    "        for index, item in enumerate(data):\n",
    "\n",
    "            full_key = f\"{parent_key}[{index}]\"\n",
    "            #print(f\"full_key: {full_key}\")\n",
    "            #print(f\"item: {keys}\")\n",
    "            keys.extend(get_all_keys(item, full_key))\n",
    "    return keys\n",
    "\n",
    "# Example usage:\n",
    "nested_json = {\n",
    "    \"user\": {\n",
    "        \"id\": 1,\n",
    "        \"name\": \"Alice\",\n",
    "        \"address\": {\n",
    "            \"city\": \"Wonderland\",\n",
    "            \"zip\": \"12345\"\n",
    "        },\n",
    "        \"hobbies\": [\n",
    "            {\"name\": \"reading\", \"type\": \"indoor\"},\n",
    "            {\"name\": \"cycling\", \"type\": \"outdoor\"}\n",
    "        ]\n",
    "    },\n",
    "    \"status\": \"active\"\n",
    "}\n",
    "\n",
    "all_keys = get_all_keys(nested_json)\n",
    "'''for key in all_keys:\n",
    "    print(key)\n",
    "'''"
   ]
  },
  {
   "cell_type": "code",
   "execution_count": 0,
   "metadata": {
    "application/vnd.databricks.v1+cell": {
     "cellMetadata": {
      "byteLimit": 2048000,
      "implicitDf": true,
      "rowLimit": 10000
     },
     "inputWidgets": {},
     "nuid": "fd504563-f701-4c76-ac54-7a882f08a541",
     "showTitle": false,
     "tableResultSettingsMap": {},
     "title": ""
    }
   },
   "outputs": [],
   "source": [
    "%sql\n",
    "CREATE SCHEMA bronze"
   ]
  },
  {
   "cell_type": "code",
   "execution_count": 0,
   "metadata": {
    "application/vnd.databricks.v1+cell": {
     "cellMetadata": {
      "byteLimit": 2048000,
      "implicitDf": true,
      "rowLimit": 10000
     },
     "inputWidgets": {},
     "nuid": "74204342-de22-43b7-a159-2ab2d1f0435a",
     "showTitle": false,
     "tableResultSettingsMap": {},
     "title": ""
    }
   },
   "outputs": [],
   "source": [
    "%sql\n",
    "CREATE SCHEMA silver"
   ]
  },
  {
   "cell_type": "code",
   "execution_count": 0,
   "metadata": {
    "application/vnd.databricks.v1+cell": {
     "cellMetadata": {
      "byteLimit": 2048000,
      "implicitDf": true,
      "rowLimit": 10000
     },
     "inputWidgets": {},
     "nuid": "92840789-3f82-43f8-a636-771c900d2993",
     "showTitle": false,
     "tableResultSettingsMap": {},
     "title": ""
    }
   },
   "outputs": [],
   "source": [
    "%sql\n",
    "CREATE SCHEMA dummy\n"
   ]
  }
 ],
 "metadata": {
  "application/vnd.databricks.v1+notebook": {
   "computePreferences": null,
   "dashboards": [],
   "environmentMetadata": {
    "base_environment": "",
    "environment_version": "3"
   },
   "inputWidgetPreferences": null,
   "language": "python",
   "notebookMetadata": {
    "mostRecentlyExecutedCommandWithImplicitDF": {
     "commandId": 5678669868815491,
     "dataframes": [
      "_sqldf"
     ]
    },
    "pythonIndentUnit": 4
   },
   "notebookName": "Test",
   "widgets": {}
  },
  "language_info": {
   "name": "python"
  }
 },
 "nbformat": 4,
 "nbformat_minor": 0
}
